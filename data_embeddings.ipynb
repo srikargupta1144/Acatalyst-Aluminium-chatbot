{
 "cells": [
  {
   "cell_type": "code",
   "execution_count": 3,
   "metadata": {},
   "outputs": [
    {
     "name": "stdout",
     "output_type": "stream",
     "text": [
      "Embeddings saved to embeddings.csv\n"
     ]
    }
   ],
   "source": [
    "import openai\n",
    "import pandas as pd\n",
    "import numpy as np\n",
    "from dotenv import load_dotenv\n",
    "import os\n",
    "import requests\n",
    "\n",
    "# Load environment variables\n",
    "load_dotenv()\n",
    "\n",
    "def get_api_key(email):\n",
    "    url = \"http://52.66.239.27:8504/get_keys\"\n",
    "    payload = {\"email\": email}\n",
    "    response = requests.post(url, json=payload)\n",
    "    return response.json().get('key')\n",
    "\n",
    "# Fetch and set OpenAI API key\n",
    "email = os.getenv('EMAIL')\n",
    "openai.api_key = get_api_key(email)\n",
    "\n",
    "# Function to load scraped data\n",
    "def load_data(filename='scraped_data.csv'):\n",
    "    return pd.read_csv(filename)\n",
    "\n",
    "# Function to get embeddings for a given text using the latest API format\n",
    "def get_embedding(text):\n",
    "    response = openai.ChatCompletion.create(\n",
    "        model=\"gpt-3.5-turbo\",\n",
    "        messages=[{\"role\": \"user\", \"content\": text}],\n",
    "        max_tokens=100\n",
    "    )\n",
    "    return response.choices[0].message['content']\n",
    "\n",
    "# Function to process the data and get embeddings\n",
    "def process_data(df):\n",
    "    df['embedding'] = df['summary'].apply(get_embedding)\n",
    "    return df\n",
    "\n",
    "# Function to save embeddings to a file\n",
    "def save_embeddings(df, filename='embeddings.csv'):\n",
    "    df.to_csv(filename, index=False)\n",
    "    print(f\"Embeddings saved to {filename}\")\n",
    "\n",
    "if __name__ == '__main__':\n",
    "    # Load scraped data\n",
    "    data = load_data()\n",
    "\n",
    "    # Process data to get embeddings\n",
    "    data_with_embeddings = process_data(data)\n",
    "\n",
    "    # Save embeddings to a file\n",
    "    save_embeddings(data_with_embeddings)\n"
   ]
  }
 ],
 "metadata": {
  "kernelspec": {
   "display_name": "Python 3",
   "language": "python",
   "name": "python3"
  },
  "language_info": {
   "codemirror_mode": {
    "name": "ipython",
    "version": 3
   },
   "file_extension": ".py",
   "mimetype": "text/x-python",
   "name": "python",
   "nbconvert_exporter": "python",
   "pygments_lexer": "ipython3",
   "version": "3.12.3"
  }
 },
 "nbformat": 4,
 "nbformat_minor": 2
}
